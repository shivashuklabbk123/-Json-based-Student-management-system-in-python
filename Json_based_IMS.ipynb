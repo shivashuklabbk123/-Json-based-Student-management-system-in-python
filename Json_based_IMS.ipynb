{
  "nbformat": 4,
  "nbformat_minor": 0,
  "metadata": {
    "colab": {
      "name": "Json based IMS.ipynb",
      "provenance": []
    },
    "kernelspec": {
      "name": "python3",
      "display_name": "Python 3"
    },
    "language_info": {
      "name": "python"
    }
  },
  "cells": [
    {
      "cell_type": "code",
      "metadata": {
        "id": "7TJtl-6VLrGI"
      },
      "source": [
        "record={11602259: {\"name\": \"Shiva Shukla\", \"Phone no.\": 6387903211, \"cgpa\":8.5},\n",
        "        11602260: {\"name\": \"Navraj\", \"Phone no.\": 8385903223, \"cgpa\":7.5},\n",
        "        11602261: {\"name\": \"Rampal\", \"Phone no.\": 9383903215, \"cgpa\":6.5},\n",
        "        11602262: {\"name\": \"Abhijeet\", \"Phone no.\": 6387563212, \"cgpa\":6.5},\n",
        "        11602263:  {\"name\": \"Rajpal\", \"Phone no.\": 6387903211, \"cgpa\":7.99}}"
      ],
      "execution_count": 24,
      "outputs": []
    },
    {
      "cell_type": "code",
      "metadata": {
        "id": "QuTYjfPnL0RT"
      },
      "source": [
        "record = {11602259: 'Shiva shukla',\n",
        "          11602260:'Navraj',\n",
        "          11602261:'Rampal'}"
      ],
      "execution_count": 2,
      "outputs": []
    },
    {
      "cell_type": "code",
      "metadata": {
        "colab": {
          "base_uri": "https://localhost:8080/"
        },
        "id": "lZQ16PWinlaB",
        "outputId": "e843fee1-a543-46a5-a36c-df9be12d3df5"
      },
      "source": [
        "record"
      ],
      "execution_count": 4,
      "outputs": [
        {
          "output_type": "execute_result",
          "data": {
            "text/plain": [
              "{11602259: {'Phone no.': 6387903211, 'cgpa': 8.5, 'name': 'Shiva Shukla'},\n",
              " 11602260: {'Phone no.': 8385903223, 'cgpa': 7.5, 'name': 'Navraj'},\n",
              " 11602261: {'Phone no.': 9383903215, 'cgpa': 6.5, 'name': 'Rampal'},\n",
              " 11602262: {'Phone no.': 6387563212, 'cgpa': 6.5, 'name': 'Abhijeet'}}"
            ]
          },
          "metadata": {},
          "execution_count": 4
        }
      ]
    },
    {
      "cell_type": "code",
      "metadata": {
        "colab": {
          "base_uri": "https://localhost:8080/"
        },
        "id": "1BLEb_PcozD7",
        "outputId": "cf9f0333-da7e-4458-a20e-fb33d9ba6f61"
      },
      "source": [
        "record[11602259]"
      ],
      "execution_count": 30,
      "outputs": [
        {
          "output_type": "execute_result",
          "data": {
            "text/plain": [
              "{'Phone no.': 6387903211, 'cgpa': 8.5, 'name': 'Shiva Shukla'}"
            ]
          },
          "metadata": {},
          "execution_count": 30
        }
      ]
    },
    {
      "cell_type": "code",
      "metadata": {
        "colab": {
          "base_uri": "https://localhost:8080/"
        },
        "id": "CoU8fv6Ko7dY",
        "outputId": "c92d70a0-c204-4136-9397-2f49faa1b410"
      },
      "source": [
        "record[11602262]"
      ],
      "execution_count": 6,
      "outputs": [
        {
          "output_type": "execute_result",
          "data": {
            "text/plain": [
              "{'Phone no.': 6387563212, 'cgpa': 6.5, 'name': 'Abhijeet'}"
            ]
          },
          "metadata": {},
          "execution_count": 6
        }
      ]
    },
    {
      "cell_type": "code",
      "metadata": {
        "colab": {
          "base_uri": "https://localhost:8080/",
          "height": 35
        },
        "id": "GiarP4XBpCyL",
        "outputId": "1081695f-badc-4cd1-fac4-60fc0dc392dd"
      },
      "source": [
        "record[11602261]['name']"
      ],
      "execution_count": 8,
      "outputs": [
        {
          "output_type": "execute_result",
          "data": {
            "application/vnd.google.colaboratory.intrinsic+json": {
              "type": "string"
            },
            "text/plain": [
              "'Rampal'"
            ]
          },
          "metadata": {},
          "execution_count": 8
        }
      ]
    },
    {
      "cell_type": "code",
      "metadata": {
        "colab": {
          "base_uri": "https://localhost:8080/"
        },
        "id": "bnGB1cjppIny",
        "outputId": "18e90e12-b3eb-460b-dcce-952e35cf1d5f"
      },
      "source": [
        "reg = 11602259\n",
        "print(record[reg]['name'])\n",
        "print(record[reg]['Phone no.'])\n",
        "print(record[reg]['cgpa'])\n"
      ],
      "execution_count": 9,
      "outputs": [
        {
          "output_type": "stream",
          "name": "stdout",
          "text": [
            "Shiva Shukla\n",
            "6387903211\n",
            "8.5\n"
          ]
        }
      ]
    },
    {
      "cell_type": "code",
      "metadata": {
        "colab": {
          "base_uri": "https://localhost:8080/"
        },
        "id": "9ornKQM4qFAu",
        "outputId": "f830e184-a2db-4e9c-8f0e-21e73cbaf3b5"
      },
      "source": [
        "record[11602260]['Phone no.']"
      ],
      "execution_count": 10,
      "outputs": [
        {
          "output_type": "execute_result",
          "data": {
            "text/plain": [
              "8385903223"
            ]
          },
          "metadata": {},
          "execution_count": 10
        }
      ]
    },
    {
      "cell_type": "code",
      "metadata": {
        "id": "geYR4jY0qRAt"
      },
      "source": [
        "record[11602259]['Phone no.'] = 8387903212"
      ],
      "execution_count": 11,
      "outputs": []
    },
    {
      "cell_type": "code",
      "metadata": {
        "colab": {
          "base_uri": "https://localhost:8080/"
        },
        "id": "ZmZP53grqu9z",
        "outputId": "58b71235-945b-4f56-e211-1c36b672916b"
      },
      "source": [
        "record"
      ],
      "execution_count": 25,
      "outputs": [
        {
          "output_type": "execute_result",
          "data": {
            "text/plain": [
              "{11602259: {'Phone no.': 6387903211, 'cgpa': 8.5, 'name': 'Shiva Shukla'},\n",
              " 11602260: {'Phone no.': 8385903223, 'cgpa': 7.5, 'name': 'Navraj'},\n",
              " 11602261: {'Phone no.': 9383903215, 'cgpa': 6.5, 'name': 'Rampal'},\n",
              " 11602262: {'Phone no.': 6387563212, 'cgpa': 6.5, 'name': 'Abhijeet'},\n",
              " 11602263: {'Phone no.': 6387903211, 'cgpa': 7.99, 'name': 'Rajpal'}}"
            ]
          },
          "metadata": {},
          "execution_count": 25
        }
      ]
    },
    {
      "cell_type": "code",
      "metadata": {
        "id": "1yLnHqxfqxwm"
      },
      "source": [
        "import json"
      ],
      "execution_count": 27,
      "outputs": []
    },
    {
      "cell_type": "code",
      "metadata": {
        "id": "lXeCr0GMrPFr"
      },
      "source": [
        "js = json.dumps(record)"
      ],
      "execution_count": 28,
      "outputs": []
    },
    {
      "cell_type": "code",
      "metadata": {
        "colab": {
          "base_uri": "https://localhost:8080/",
          "height": 68
        },
        "id": "swSH1M6KrWdm",
        "outputId": "b095ccb7-a385-4c5a-afa6-091029465359"
      },
      "source": [
        "js"
      ],
      "execution_count": 29,
      "outputs": [
        {
          "output_type": "execute_result",
          "data": {
            "application/vnd.google.colaboratory.intrinsic+json": {
              "type": "string"
            },
            "text/plain": [
              "'{\"11602259\": {\"name\": \"Shiva Shukla\", \"Phone no.\": 6387903211, \"cgpa\": 8.5}, \"11602260\": {\"name\": \"Navraj\", \"Phone no.\": 8385903223, \"cgpa\": 7.5}, \"11602261\": {\"name\": \"Rampal\", \"Phone no.\": 9383903215, \"cgpa\": 6.5}, \"11602262\": {\"name\": \"Abhijeet\", \"Phone no.\": 6387563212, \"cgpa\": 6.5}, \"11602263\": {\"name\": \"Rajpal\", \"Phone no.\": 6387903211, \"cgpa\": 7.99}}'"
            ]
          },
          "metadata": {},
          "execution_count": 29
        }
      ]
    },
    {
      "cell_type": "code",
      "metadata": {
        "colab": {
          "base_uri": "https://localhost:8080/"
        },
        "id": "42UTGTPrrX3Q",
        "outputId": "e7e7ad0a-0511-4a8f-cf31-dcbdf8899c17"
      },
      "source": [
        "record"
      ],
      "execution_count": 16,
      "outputs": [
        {
          "output_type": "execute_result",
          "data": {
            "text/plain": [
              "{11602259: {'Phone no.': 8387903212, 'cgpa': 8.5, 'name': 'Shiva Shukla'},\n",
              " 11602260: {'Phone no.': 8385903223, 'cgpa': 7.5, 'name': 'Navraj'},\n",
              " 11602261: {'Phone no.': 9383903215, 'cgpa': 6.5, 'name': 'Rampal'},\n",
              " 11602262: {'Phone no.': 6387563212, 'cgpa': 6.5, 'name': 'Abhijeet'}}"
            ]
          },
          "metadata": {},
          "execution_count": 16
        }
      ]
    },
    {
      "cell_type": "code",
      "metadata": {
        "colab": {
          "base_uri": "https://localhost:8080/"
        },
        "id": "t90te8V_ro06",
        "outputId": "3283b406-f363-4980-ba0f-9a17ddd917e4"
      },
      "source": [
        "type(js)"
      ],
      "execution_count": 17,
      "outputs": [
        {
          "output_type": "execute_result",
          "data": {
            "text/plain": [
              "str"
            ]
          },
          "metadata": {},
          "execution_count": 17
        }
      ]
    },
    {
      "cell_type": "code",
      "metadata": {
        "colab": {
          "base_uri": "https://localhost:8080/"
        },
        "id": "kLtXkbw9rsHa",
        "outputId": "bbf5d793-0ddf-48b4-8242-0d93ad576aa7"
      },
      "source": [
        "type(record)"
      ],
      "execution_count": 18,
      "outputs": [
        {
          "output_type": "execute_result",
          "data": {
            "text/plain": [
              "dict"
            ]
          },
          "metadata": {},
          "execution_count": 18
        }
      ]
    },
    {
      "cell_type": "code",
      "metadata": {
        "id": "IB4qE25ErugZ"
      },
      "source": [
        "fd = open(\"record.json\", 'w')\n",
        "fd.write(js)\n",
        "fd.close()"
      ],
      "execution_count": 19,
      "outputs": []
    },
    {
      "cell_type": "code",
      "metadata": {
        "id": "mjq2l3VYsBiq"
      },
      "source": [
        "fd = open(\"record.json\", 'r')\n",
        "txt = fd.read()\n",
        "fd.close()"
      ],
      "execution_count": 20,
      "outputs": []
    },
    {
      "cell_type": "code",
      "metadata": {
        "colab": {
          "base_uri": "https://localhost:8080/",
          "height": 52
        },
        "id": "2pkmgHsWshVy",
        "outputId": "8a18ec5d-4db5-43fb-ced3-c3e4de00e451"
      },
      "source": [
        "txt"
      ],
      "execution_count": 21,
      "outputs": [
        {
          "output_type": "execute_result",
          "data": {
            "application/vnd.google.colaboratory.intrinsic+json": {
              "type": "string"
            },
            "text/plain": [
              "'{\"11602259\": {\"name\": \"Shiva Shukla\", \"Phone no.\": 8387903212, \"cgpa\": 8.5}, \"11602260\": {\"name\": \"Navraj\", \"Phone no.\": 8385903223, \"cgpa\": 7.5}, \"11602261\": {\"name\": \"Rampal\", \"Phone no.\": 9383903215, \"cgpa\": 6.5}, \"11602262\": {\"name\": \"Abhijeet\", \"Phone no.\": 6387563212, \"cgpa\": 6.5}}'"
            ]
          },
          "metadata": {},
          "execution_count": 21
        }
      ]
    },
    {
      "cell_type": "code",
      "metadata": {
        "id": "HeTYTDvSsjDZ"
      },
      "source": [
        "record = json.loads(txt)"
      ],
      "execution_count": 22,
      "outputs": []
    },
    {
      "cell_type": "code",
      "metadata": {
        "colab": {
          "base_uri": "https://localhost:8080/"
        },
        "id": "6FEOghyGsv-r",
        "outputId": "b631e6ae-ae9a-42bc-bd78-8026b6dbc693"
      },
      "source": [
        "record"
      ],
      "execution_count": 23,
      "outputs": [
        {
          "output_type": "execute_result",
          "data": {
            "text/plain": [
              "{'11602259': {'Phone no.': 8387903212, 'cgpa': 8.5, 'name': 'Shiva Shukla'},\n",
              " '11602260': {'Phone no.': 8385903223, 'cgpa': 7.5, 'name': 'Navraj'},\n",
              " '11602261': {'Phone no.': 9383903215, 'cgpa': 6.5, 'name': 'Rampal'},\n",
              " '11602262': {'Phone no.': 6387563212, 'cgpa': 6.5, 'name': 'Abhijeet'}}"
            ]
          },
          "metadata": {},
          "execution_count": 23
        }
      ]
    },
    {
      "cell_type": "code",
      "metadata": {
        "id": "bsa48QX3sx4x"
      },
      "source": [
        ""
      ],
      "execution_count": null,
      "outputs": []
    }
  ]
}